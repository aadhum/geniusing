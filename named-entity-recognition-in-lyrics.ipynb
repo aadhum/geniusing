{
 "cells": [
  {
   "cell_type": "code",
   "execution_count": 22,
   "metadata": {},
   "outputs": [],
   "source": [
    "import os\n",
    "import re\n",
    "import datetime \n",
    "import csv\n",
    "from itertools import groupby\n",
    "from nltk.corpus import PlaintextCorpusReader\n",
    "from nltk.tag import StanfordNERTagger"
   ]
  },
  {
   "cell_type": "code",
   "execution_count": 2,
   "metadata": {
    "collapsed": true
   },
   "outputs": [],
   "source": [
    "tagger = StanfordNERTagger('./stanford-ner-2016-10-31/classifiers/english.all.3class.distsim.crf.ser.gz',\n",
    "                           './stanford-ner-2016-10-31/stanford-ner-3.7.0.jar')"
   ]
  },
  {
   "cell_type": "code",
   "execution_count": 3,
   "metadata": {
    "collapsed": true
   },
   "outputs": [],
   "source": [
    "ARTISTS = ['The Roots',\n",
    "'Eve',\n",
    "'DJ Jazzy Jeff & The Fresh Prince',\n",
    "'Ludacris',\n",
    "'T.I.',\n",
    "'Kanye West',\n",
    "'Chance the Rapper',\n",
    "'Common',\n",
    "'Gucci Mane',\n",
    "'Migos',\n",
    "'OutKast',\n",
    "'Twista',\n",
    "'Crucial Conflict',\n",
    "'Lupe Fiasco',\n",
    "'Digital Underground',\n",
    "'2pac',\n",
    "'Trouble Funk']"
   ]
  },
  {
   "cell_type": "code",
   "execution_count": 4,
   "metadata": {},
   "outputs": [],
   "source": [
    "LYRICS_DIR = '/Users/umd-laptop/Code/geniusing/lyrics/'"
   ]
  },
  {
   "cell_type": "code",
   "execution_count": 5,
   "metadata": {},
   "outputs": [],
   "source": [
    "paths = [os.path.join(LYRICS_DIR, d) for d in os.listdir(LYRICS_DIR)]"
   ]
  },
  {
   "cell_type": "code",
   "execution_count": 6,
   "metadata": {
    "collapsed": true
   },
   "outputs": [],
   "source": [
    "def get_tagged_entities(dirpath):\n",
    "    \"\"\"\n",
    "    Given a directory path,\n",
    "    create a PlaintextCorpus object and then\n",
    "    return a list of dictionaries representing tagged entities\n",
    "    in the corpus\n",
    "    \"\"\"\n",
    "    entities = []\n",
    "    corp = PlaintextCorpusReader(dirpath, '.*\\.txt')\n",
    "    \n",
    "    print('{0}: Starting work on {1}'.format(datetime.datetime.now().strftime('%Y-%m-%d %H:%M:%S'), dirpath))\n",
    "    for fid in corp.fileids():\n",
    "        \n",
    "        s_id = fid.split('-', 1)[0]\n",
    "        s_title = re.sub('-', ' ', fid.split('-', 1)[1].rsplit('.')[0])\n",
    "        \n",
    "        text = corp.words(fid)\n",
    "        tagged = tagger.tag(text)\n",
    "        \n",
    "        # Based on: http://stackoverflow.com/a/30665014/1232820\n",
    "        for tag, chunk in groupby(tagged, lambda x: x[1]):\n",
    "            if tag != 'O':\n",
    "                result = {\n",
    "                    'song_id': s_id,\n",
    "                    'song_title': s_title,\n",
    "                    'entity': \" \".join(word for word, tg in chunk),\n",
    "                    'entity_type': tag\n",
    "                }\n",
    "                entities.append(result)\n",
    "            else:\n",
    "                # flush chunk\n",
    "                pass\n",
    "    print('{0}: Finished processing {1}'.format(datetime.datetime.now().strftime('%Y-%m-%d %H:%M:%S'), dirpath))\n",
    "    return entities"
   ]
  },
  {
   "cell_type": "code",
   "execution_count": 7,
   "metadata": {},
   "outputs": [
    {
     "name": "stdout",
     "output_type": "stream",
     "text": [
      "2017-04-21 07:40:38: Starting work on /Users/umd-laptop/Code/geniusing/lyrics/2Pac\n",
      "2017-04-21 07:55:46: Finished processing /Users/umd-laptop/Code/geniusing/lyrics/2Pac\n",
      "2017-04-21 07:55:46: Starting work on /Users/umd-laptop/Code/geniusing/lyrics/Chance The Rapper\n",
      "2017-04-21 07:59:28: Finished processing /Users/umd-laptop/Code/geniusing/lyrics/Chance The Rapper\n",
      "2017-04-21 07:59:28: Starting work on /Users/umd-laptop/Code/geniusing/lyrics/Common\n",
      "2017-04-21 08:06:55: Finished processing /Users/umd-laptop/Code/geniusing/lyrics/Common\n",
      "2017-04-21 08:06:55: Starting work on /Users/umd-laptop/Code/geniusing/lyrics/Crucial Conflict\n",
      "2017-04-21 08:07:28: Finished processing /Users/umd-laptop/Code/geniusing/lyrics/Crucial Conflict\n",
      "2017-04-21 08:07:28: Starting work on /Users/umd-laptop/Code/geniusing/lyrics/Digital Underground\n",
      "2017-04-21 08:08:39: Finished processing /Users/umd-laptop/Code/geniusing/lyrics/Digital Underground\n",
      "2017-04-21 08:08:39: Starting work on /Users/umd-laptop/Code/geniusing/lyrics/DJ Jazzy Jeff & The Fresh Prince\n",
      "2017-04-21 08:10:13: Finished processing /Users/umd-laptop/Code/geniusing/lyrics/DJ Jazzy Jeff & The Fresh Prince\n",
      "2017-04-21 08:10:13: Starting work on /Users/umd-laptop/Code/geniusing/lyrics/Eve\n",
      "2017-04-21 08:11:31: Finished processing /Users/umd-laptop/Code/geniusing/lyrics/Eve\n",
      "2017-04-21 08:11:31: Starting work on /Users/umd-laptop/Code/geniusing/lyrics/Gucci Mane\n",
      "2017-04-21 08:40:22: Finished processing /Users/umd-laptop/Code/geniusing/lyrics/Gucci Mane\n",
      "2017-04-21 08:40:22: Starting work on /Users/umd-laptop/Code/geniusing/lyrics/Kanye West\n",
      "2017-04-21 08:56:04: Finished processing /Users/umd-laptop/Code/geniusing/lyrics/Kanye West\n",
      "2017-04-21 08:56:04: Starting work on /Users/umd-laptop/Code/geniusing/lyrics/Ludacris\n",
      "2017-04-21 09:02:54: Finished processing /Users/umd-laptop/Code/geniusing/lyrics/Ludacris\n",
      "2017-04-21 09:02:54: Starting work on /Users/umd-laptop/Code/geniusing/lyrics/Lupe Fiasco\n",
      "2017-04-21 09:16:35: Finished processing /Users/umd-laptop/Code/geniusing/lyrics/Lupe Fiasco\n",
      "2017-04-21 09:16:35: Starting work on /Users/umd-laptop/Code/geniusing/lyrics/Migos\n",
      "2017-04-21 09:27:52: Finished processing /Users/umd-laptop/Code/geniusing/lyrics/Migos\n",
      "2017-04-21 09:27:52: Starting work on /Users/umd-laptop/Code/geniusing/lyrics/OutKast\n",
      "2017-04-21 09:34:04: Finished processing /Users/umd-laptop/Code/geniusing/lyrics/OutKast\n",
      "2017-04-21 09:34:04: Starting work on /Users/umd-laptop/Code/geniusing/lyrics/T.I.\n",
      "2017-04-21 09:44:04: Finished processing /Users/umd-laptop/Code/geniusing/lyrics/T.I.\n",
      "2017-04-21 09:44:04: Starting work on /Users/umd-laptop/Code/geniusing/lyrics/The Roots\n",
      "2017-04-21 09:51:18: Finished processing /Users/umd-laptop/Code/geniusing/lyrics/The Roots\n",
      "2017-04-21 09:51:18: Starting work on /Users/umd-laptop/Code/geniusing/lyrics/Trouble Funk\n",
      "2017-04-21 09:51:23: Finished processing /Users/umd-laptop/Code/geniusing/lyrics/Trouble Funk\n",
      "2017-04-21 09:51:23: Starting work on /Users/umd-laptop/Code/geniusing/lyrics/Twista\n",
      "2017-04-21 09:55:47: Finished processing /Users/umd-laptop/Code/geniusing/lyrics/Twista\n"
     ]
    }
   ],
   "source": [
    "all_entities = [get_tagged_entities(p) for p in paths]"
   ]
  },
  {
   "cell_type": "code",
   "execution_count": 11,
   "metadata": {},
   "outputs": [],
   "source": [
    "merge = zip(sorted(ARTISTS), all_entities)"
   ]
  },
  {
   "cell_type": "code",
   "execution_count": 19,
   "metadata": {},
   "outputs": [],
   "source": [
    "results = []\n",
    "for m in merge:\n",
    "    update = {'artist': m[0]}\n",
    "    new_item = [{**item, **update} for item in m[1]]\n",
    "    if len(m[1]) == len(new_item):\n",
    "        results.extend(new_item)"
   ]
  },
  {
   "cell_type": "code",
   "execution_count": 20,
   "metadata": {},
   "outputs": [
    {
     "data": {
      "text/plain": [
       "15819"
      ]
     },
     "execution_count": 20,
     "metadata": {},
     "output_type": "execute_result"
    }
   ],
   "source": [
    "len(results)"
   ]
  },
  {
   "cell_type": "code",
   "execution_count": 29,
   "metadata": {},
   "outputs": [],
   "source": [
    "with open('./entities.csv', 'w') as csvfile:\n",
    "    field_names = ['entity', 'entity_type', 'song_id', 'song_title', 'artist']\n",
    "    writer = csv.DictWriter(csvfile, fieldnames=field_names)\n",
    "    \n",
    "    writer.writeheader()\n",
    "    for row in results:\n",
    "        writer.writerow(row)"
   ]
  },
  {
   "cell_type": "code",
   "execution_count": null,
   "metadata": {
    "collapsed": true
   },
   "outputs": [],
   "source": []
  }
 ],
 "metadata": {
  "anaconda-cloud": {},
  "kernelspec": {
   "display_name": "Python [conda env:textanalysis]",
   "language": "python",
   "name": "conda-env-textanalysis-py"
  },
  "language_info": {
   "codemirror_mode": {
    "name": "ipython",
    "version": 3
   },
   "file_extension": ".py",
   "mimetype": "text/x-python",
   "name": "python",
   "nbconvert_exporter": "python",
   "pygments_lexer": "ipython3",
   "version": "3.5.2"
  }
 },
 "nbformat": 4,
 "nbformat_minor": 2
}
