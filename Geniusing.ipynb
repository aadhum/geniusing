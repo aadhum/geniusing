{
 "cells": [
  {
   "cell_type": "markdown",
   "metadata": {},
   "source": [
    "This notebook will attempt to get song information for the artists in the `ARTISTS` list using the [Genius API](https://docs.genius.com/). For every song it finds it will write out a CSV file that includes some of the metadata, and an external text file that contains the lyrics for the song.\n",
    "\n",
    "To use the notebook you will need to set `GENIUS_ACCESS_TOKEN` in your environment before starting Jupyter. To easily get your token go over to the [Genius API documentation](https://docs.genius.com/) and click on the *Authenticate with the Docs App to try* button. This should result in you seeing your key displayed in the page next to *Authorization: Bearer*. If you don't want to set it in your environment you can always put it inline in the notebook."
   ]
  },
  {
   "cell_type": "code",
   "execution_count": 1,
   "metadata": {
    "collapsed": true
   },
   "outputs": [],
   "source": [
    "import os\n",
    "import re\n",
    "import bs4\n",
    "import csv\n",
    "import json\n",
    "import time\n",
    "import requests"
   ]
  },
  {
   "cell_type": "code",
   "execution_count": 2,
   "metadata": {
    "collapsed": false
   },
   "outputs": [],
   "source": [
    "ARTISTS = [\n",
    "    'The Roots',\n",
    "    'Eve',\n",
    "    'DJ Jazzy Jeff & The Fresh Prince',\n",
    "    'Ludacris',\n",
    "    'T.I.',\n",
    "    'Kanye West',\n",
    "    'Chance the Rapper',\n",
    "    'Common',\n",
    "    'Gucci Mane',\n",
    "    'Migos',\n",
    "    'OutKast',\n",
    "    'Twista',\n",
    "    'Crucial Conflict',\n",
    "    'Lupe Fiasco',\n",
    "    'Digital Underground',\n",
    "    '2Pac',\n",
    "    'Trouble Funk'\n",
    "]"
   ]
  },
  {
   "cell_type": "markdown",
   "metadata": {},
   "source": [
    "Create an HTTP session using the `GENIUS_ACCESS_TOKEN` that is set in the environment."
   ]
  },
  {
   "cell_type": "code",
   "execution_count": 3,
   "metadata": {
    "collapsed": false
   },
   "outputs": [],
   "source": [
    "http = requests.Session()\n",
    "http.headers.update({'Authorization': 'Bearer {0}'.format(os.environ['GENIUS_ACCESS_TOKEN'])})"
   ]
  },
  {
   "cell_type": "markdown",
   "metadata": {},
   "source": [
    "`get_artist_songs` will get all the song metadata and lyrics for a given artist name"
   ]
  },
  {
   "cell_type": "code",
   "execution_count": 4,
   "metadata": {
    "collapsed": true
   },
   "outputs": [],
   "source": [
    "def get_artist_songs(name, primary=False):\n",
    "    artist_id = get_artist_id(name)\n",
    "    for song in get_songs(artist_id, primary):\n",
    "        yield song"
   ]
  },
  {
   "cell_type": "markdown",
   "metadata": {},
   "source": [
    "`get_artist_id` will get the Genius identifier for a given artist name"
   ]
  },
  {
   "cell_type": "code",
   "execution_count": 5,
   "metadata": {
    "collapsed": false
   },
   "outputs": [],
   "source": [
    "def get_artist_id(name):\n",
    "    page = 1\n",
    "    while True:\n",
    "        r = http.get('https://api.genius.com/search', params={'q': name, 'page': page})\n",
    "        if r.status_code != 200:\n",
    "            return None\n",
    "        for hit in r.json()['response'].get('hits', []):\n",
    "            if hit['result']['primary_artist']['name'].lower() == name.lower():\n",
    "                return hit['result']['primary_artist']['id']\n",
    "        page += 1\n",
    "    return None"
   ]
  },
  {
   "cell_type": "markdown",
   "metadata": {},
   "source": [
    "`get_songs` will go and get all the songs and lyrics for a given artist id. When the `primary` parameter is set to `True` only songs where the artist is the primary artist will be returned."
   ]
  },
  {
   "cell_type": "code",
   "execution_count": 6,
   "metadata": {
    "collapsed": false
   },
   "outputs": [],
   "source": [
    "def get_songs(artist_id, primary=False):\n",
    "    page = 1\n",
    "    while True:\n",
    "        r = http.get('https://api.genius.com/artists/{0}/songs'.format(artist_id), params={'page': page})\n",
    "        resp = r.json()['response']\n",
    "        if 'songs' in resp and len(resp['songs']) != 0:\n",
    "            for song in resp['songs']:\n",
    "                if song['primary_artist']['id'] == artist_id or not primary:\n",
    "                    yield get_song(song['id'])\n",
    "        else:\n",
    "            return\n",
    "        page += 1"
   ]
  },
  {
   "cell_type": "markdown",
   "metadata": {},
   "source": [
    "`get_song` will fetch the metadata for a particular song using the song identifier, and also get the lyrics for that song."
   ]
  },
  {
   "cell_type": "code",
   "execution_count": 7,
   "metadata": {
    "collapsed": true
   },
   "outputs": [],
   "source": [
    "def get_song(song_id):\n",
    "    r = http.get('https://api.genius.com/songs/{0}'.format(song_id))\n",
    "    song = r.json()['response'].get('song')\n",
    "    song['lyrics'] = get_lyrics(song['url'])\n",
    "    return song"
   ]
  },
  {
   "cell_type": "code",
   "execution_count": 8,
   "metadata": {
    "collapsed": true
   },
   "outputs": [],
   "source": [
    "def get_lyrics(url):\n",
    "    doc = bs4.BeautifulSoup(requests.get(url).text, 'lxml')\n",
    "    return [line.text.strip() for line in doc.select(\".lyrics a\")]"
   ]
  },
  {
   "cell_type": "code",
   "execution_count": 9,
   "metadata": {
    "collapsed": true
   },
   "outputs": [],
   "source": [
    "def slug(s):\n",
    "    return re.sub(\"[/ ,]\", '-', s)"
   ]
  },
  {
   "cell_type": "markdown",
   "metadata": {},
   "source": [
    "`write_lyrics` will write the lyrics for a song to the filesystem using the artist name and the song title to determine the filename."
   ]
  },
  {
   "cell_type": "code",
   "execution_count": 10,
   "metadata": {
    "collapsed": false
   },
   "outputs": [],
   "source": [
    "def write_lyrics(song):\n",
    "    dir_name = \"lyrics/\" + song['primary_artist']['name']\n",
    "    if not os.path.isdir(dir_name):\n",
    "        os.mkdir(dir_name)\n",
    "    filename = str(song['id']) + '-' + slug(song['title']) + '.txt'\n",
    "    fh = open(os.path.join(dir_name, filename), 'w')\n",
    "    for line in song['lyrics']:\n",
    "        fh.write(line + \"\\n\")\n",
    "    fh.close()"
   ]
  },
  {
   "cell_type": "code",
   "execution_count": 12,
   "metadata": {
    "collapsed": false
   },
   "outputs": [],
   "source": [
    "song = next(get_artist_songs(\"Kanye West\"))"
   ]
  },
  {
   "cell_type": "code",
   "execution_count": 25,
   "metadata": {
    "collapsed": true
   },
   "outputs": [],
   "source": [
    "def samples(song):\n",
    "    artists = []\n",
    "    for rel in song['song_relationships']:\n",
    "        if rel['type'] == 'samples':\n",
    "            for sampled_song in rel['songs']:\n",
    "                artists.append(sampled_song['primary_artist']['name'])\n",
    "    return artists\n",
    "            "
   ]
  },
  {
   "cell_type": "markdown",
   "metadata": {},
   "source": [
    "This is where all the work is coordinated. For each artist we go get the song metadata and write it to a CSV. In addition the lyrics for each song are written to the filesystem as a separate file."
   ]
  },
  {
   "cell_type": "code",
   "execution_count": null,
   "metadata": {
    "collapsed": false
   },
   "outputs": [],
   "source": [
    "fh = open('songs.csv', 'w')\n",
    "songs_file = csv.writer(fh)\n",
    "songs_file.writerow([\"ID\", \"Title\", \"Artist\", \"URL\", \"Producers\", \"Featured Artists\"])\n",
    "\n",
    "for artist_name in ARTISTS:\n",
    "    for song in get_artist_songs(artist_name, primary=True):\n",
    "        print(artist_name, song['title'])\n",
    "        producer_artists = ','.join([p['name'] for p in song['producer_artists']])\n",
    "        featured_artists = ','.join([f['name'] for f in song['featured_artists']])\n",
    "        sampled_artists = ','.join(samples(song))\n",
    "        songs_file.writerow([\n",
    "            song['id'],\n",
    "            song['title'],\n",
    "            song['primary_artist']['name'],\n",
    "            song['url'],\n",
    "            producer_artists,\n",
    "            featured_artists,\n",
    "            sampled_artists,\n",
    "        ])\n",
    "        write_lyrics(song)\n",
    "        time.sleep(0.25)\n",
    "\n",
    "fh.close()\n"
   ]
  }
 ],
 "metadata": {
  "anaconda-cloud": {},
  "kernelspec": {
   "display_name": "Python 3",
   "language": "python",
   "name": "python3"
  },
  "language_info": {
   "codemirror_mode": {
    "name": "ipython",
    "version": 3
   },
   "file_extension": ".py",
   "mimetype": "text/x-python",
   "name": "python",
   "nbconvert_exporter": "python",
   "pygments_lexer": "ipython3",
   "version": "3.6.0"
  }
 },
 "nbformat": 4,
 "nbformat_minor": 2
}
